{
  "cells": [
    {
      "cell_type": "markdown",
      "metadata": {
        "id": "view-in-github",
        "colab_type": "text"
      },
      "source": [
        "<a href=\"https://colab.research.google.com/github/sriram-2490/Virtual_assitant/blob/master/final_parkinson.ipynb\" target=\"_parent\"><img src=\"https://colab.research.google.com/assets/colab-badge.svg\" alt=\"Open In Colab\"/></a>"
      ]
    },
    {
      "cell_type": "code",
      "execution_count": null,
      "metadata": {
        "id": "uiPdyKZDXZ8M"
      },
      "outputs": [],
      "source": [
        "import pandas as pd \n",
        "import matplotlib.pyplot as plt\n",
        "import numpy as np \n",
        "from sklearn.model_selection import train_test_split\n",
        "from sklearn.decomposition import PCA\n",
        "from sklearn.preprocessing import StandardScaler\n",
        "from sklearn import metrics\n",
        "from sklearn.tree import DecisionTreeClassifier\n",
        "from sklearn.ensemble import RandomForestClassifier \n",
        "from sklearn.neighbors import KNeighborsClassifier\n",
        "from sklearn.svm import SVC\n",
        "from sklearn.naive_bayes import GaussianNB  \n",
        "from sklearn.metrics import confusion_matrix\n",
        "from sklearn.metrics import plot_confusion_matrix\n",
        "import matplotlib.pyplot as plt "
      ]
    },
    {
      "cell_type": "code",
      "execution_count": null,
      "metadata": {
        "id": "EjLWiucbXrdU"
      },
      "outputs": [],
      "source": [
        "data = pd.read_csv(\"pd_speech_features.csv\")"
      ]
    },
    {
      "cell_type": "code",
      "execution_count": null,
      "metadata": {
        "colab": {
          "base_uri": "https://localhost:8080/",
          "height": 394
        },
        "id": "0rXHHa2VXxvD",
        "outputId": "389a6cdc-0454-4a2e-8075-4f0a5d12b80b"
      },
      "outputs": [
        {
          "output_type": "execute_result",
          "data": {
            "text/plain": [
              "               id      gender         PPE         DFA        RPDE   numPulses  \\\n",
              "count  756.000000  756.000000  756.000000  756.000000  756.000000  756.000000   \n",
              "mean   125.500000    0.515873    0.746284    0.700414    0.489058  323.972222   \n",
              "std     72.793721    0.500079    0.169294    0.069718    0.137442   99.219059   \n",
              "min      0.000000    0.000000    0.041551    0.543500    0.154300    2.000000   \n",
              "25%     62.750000    0.000000    0.762833    0.647053    0.386537  251.000000   \n",
              "50%    125.500000    1.000000    0.809655    0.700525    0.484355  317.000000   \n",
              "75%    188.250000    1.000000    0.834315    0.754985    0.586515  384.250000   \n",
              "max    251.000000    1.000000    0.907660    0.852640    0.871230  907.000000   \n",
              "\n",
              "       numPeriodsPulses  meanPeriodPulses  stdDevPeriodPulses  locPctJitter  \\\n",
              "count        756.000000        756.000000          756.000000    756.000000   \n",
              "mean         322.678571          0.006360            0.000383      0.002324   \n",
              "std           99.402499          0.001826            0.000728      0.002628   \n",
              "min            1.000000          0.002107            0.000011      0.000210   \n",
              "25%          250.000000          0.005003            0.000049      0.000970   \n",
              "50%          316.000000          0.006048            0.000077      0.001495   \n",
              "75%          383.250000          0.007528            0.000171      0.002520   \n",
              "max          905.000000          0.012966            0.003483      0.027750   \n",
              "\n",
              "       ...  tqwt_kurtosisValue_dec_28  tqwt_kurtosisValue_dec_29  \\\n",
              "count  ...                 756.000000                 756.000000   \n",
              "mean   ...                  26.237251                  22.840337   \n",
              "std    ...                  42.220693                  32.626464   \n",
              "min    ...                   1.509800                   1.531700   \n",
              "25%    ...                   2.408675                   3.452800   \n",
              "50%    ...                   5.586300                   7.062750   \n",
              "75%    ...                  28.958075                  29.830850   \n",
              "max    ...                 239.788800                 203.311300   \n",
              "\n",
              "       tqwt_kurtosisValue_dec_30  tqwt_kurtosisValue_dec_31  \\\n",
              "count                 756.000000                 756.000000   \n",
              "mean                   18.587888                  13.872018   \n",
              "std                    25.537464                  20.046029   \n",
              "min                     1.582900                   1.747200   \n",
              "25%                     3.354825                   3.077450   \n",
              "50%                     6.077400                   4.770850   \n",
              "75%                    21.944050                  13.188000   \n",
              "max                   121.542900                 102.207000   \n",
              "\n",
              "       tqwt_kurtosisValue_dec_32  tqwt_kurtosisValue_dec_33  \\\n",
              "count                 756.000000                 756.000000   \n",
              "mean                   12.218953                  12.375335   \n",
              "std                    17.783642                  16.341665   \n",
              "min                     1.789500                   1.628700   \n",
              "25%                     2.937025                   3.114375   \n",
              "50%                     4.300450                   4.741450   \n",
              "75%                    10.876150                  12.201325   \n",
              "max                    85.571700                  73.532200   \n",
              "\n",
              "       tqwt_kurtosisValue_dec_34  tqwt_kurtosisValue_dec_35  \\\n",
              "count                 756.000000                 756.000000   \n",
              "mean                   14.799230                  14.751559   \n",
              "std                    15.722502                  14.432979   \n",
              "min                     1.861700                   1.955900   \n",
              "25%                     3.665925                   3.741275   \n",
              "50%                     6.725700                   7.334250   \n",
              "75%                    21.922050                  22.495175   \n",
              "max                    62.007300                  57.544300   \n",
              "\n",
              "       tqwt_kurtosisValue_dec_36       class  \n",
              "count                 756.000000  756.000000  \n",
              "mean                   31.481110    0.746032  \n",
              "std                    34.230991    0.435568  \n",
              "min                     2.364000    0.000000  \n",
              "25%                     3.948750    0.000000  \n",
              "50%                    10.637250    1.000000  \n",
              "75%                    61.125325    1.000000  \n",
              "max                   156.423700    1.000000  \n",
              "\n",
              "[8 rows x 755 columns]"
            ],
            "text/html": [
              "\n",
              "  <div id=\"df-db61d7b7-6dbd-469b-806a-a697e117b25e\">\n",
              "    <div class=\"colab-df-container\">\n",
              "      <div>\n",
              "<style scoped>\n",
              "    .dataframe tbody tr th:only-of-type {\n",
              "        vertical-align: middle;\n",
              "    }\n",
              "\n",
              "    .dataframe tbody tr th {\n",
              "        vertical-align: top;\n",
              "    }\n",
              "\n",
              "    .dataframe thead th {\n",
              "        text-align: right;\n",
              "    }\n",
              "</style>\n",
              "<table border=\"1\" class=\"dataframe\">\n",
              "  <thead>\n",
              "    <tr style=\"text-align: right;\">\n",
              "      <th></th>\n",
              "      <th>id</th>\n",
              "      <th>gender</th>\n",
              "      <th>PPE</th>\n",
              "      <th>DFA</th>\n",
              "      <th>RPDE</th>\n",
              "      <th>numPulses</th>\n",
              "      <th>numPeriodsPulses</th>\n",
              "      <th>meanPeriodPulses</th>\n",
              "      <th>stdDevPeriodPulses</th>\n",
              "      <th>locPctJitter</th>\n",
              "      <th>...</th>\n",
              "      <th>tqwt_kurtosisValue_dec_28</th>\n",
              "      <th>tqwt_kurtosisValue_dec_29</th>\n",
              "      <th>tqwt_kurtosisValue_dec_30</th>\n",
              "      <th>tqwt_kurtosisValue_dec_31</th>\n",
              "      <th>tqwt_kurtosisValue_dec_32</th>\n",
              "      <th>tqwt_kurtosisValue_dec_33</th>\n",
              "      <th>tqwt_kurtosisValue_dec_34</th>\n",
              "      <th>tqwt_kurtosisValue_dec_35</th>\n",
              "      <th>tqwt_kurtosisValue_dec_36</th>\n",
              "      <th>class</th>\n",
              "    </tr>\n",
              "  </thead>\n",
              "  <tbody>\n",
              "    <tr>\n",
              "      <th>count</th>\n",
              "      <td>756.000000</td>\n",
              "      <td>756.000000</td>\n",
              "      <td>756.000000</td>\n",
              "      <td>756.000000</td>\n",
              "      <td>756.000000</td>\n",
              "      <td>756.000000</td>\n",
              "      <td>756.000000</td>\n",
              "      <td>756.000000</td>\n",
              "      <td>756.000000</td>\n",
              "      <td>756.000000</td>\n",
              "      <td>...</td>\n",
              "      <td>756.000000</td>\n",
              "      <td>756.000000</td>\n",
              "      <td>756.000000</td>\n",
              "      <td>756.000000</td>\n",
              "      <td>756.000000</td>\n",
              "      <td>756.000000</td>\n",
              "      <td>756.000000</td>\n",
              "      <td>756.000000</td>\n",
              "      <td>756.000000</td>\n",
              "      <td>756.000000</td>\n",
              "    </tr>\n",
              "    <tr>\n",
              "      <th>mean</th>\n",
              "      <td>125.500000</td>\n",
              "      <td>0.515873</td>\n",
              "      <td>0.746284</td>\n",
              "      <td>0.700414</td>\n",
              "      <td>0.489058</td>\n",
              "      <td>323.972222</td>\n",
              "      <td>322.678571</td>\n",
              "      <td>0.006360</td>\n",
              "      <td>0.000383</td>\n",
              "      <td>0.002324</td>\n",
              "      <td>...</td>\n",
              "      <td>26.237251</td>\n",
              "      <td>22.840337</td>\n",
              "      <td>18.587888</td>\n",
              "      <td>13.872018</td>\n",
              "      <td>12.218953</td>\n",
              "      <td>12.375335</td>\n",
              "      <td>14.799230</td>\n",
              "      <td>14.751559</td>\n",
              "      <td>31.481110</td>\n",
              "      <td>0.746032</td>\n",
              "    </tr>\n",
              "    <tr>\n",
              "      <th>std</th>\n",
              "      <td>72.793721</td>\n",
              "      <td>0.500079</td>\n",
              "      <td>0.169294</td>\n",
              "      <td>0.069718</td>\n",
              "      <td>0.137442</td>\n",
              "      <td>99.219059</td>\n",
              "      <td>99.402499</td>\n",
              "      <td>0.001826</td>\n",
              "      <td>0.000728</td>\n",
              "      <td>0.002628</td>\n",
              "      <td>...</td>\n",
              "      <td>42.220693</td>\n",
              "      <td>32.626464</td>\n",
              "      <td>25.537464</td>\n",
              "      <td>20.046029</td>\n",
              "      <td>17.783642</td>\n",
              "      <td>16.341665</td>\n",
              "      <td>15.722502</td>\n",
              "      <td>14.432979</td>\n",
              "      <td>34.230991</td>\n",
              "      <td>0.435568</td>\n",
              "    </tr>\n",
              "    <tr>\n",
              "      <th>min</th>\n",
              "      <td>0.000000</td>\n",
              "      <td>0.000000</td>\n",
              "      <td>0.041551</td>\n",
              "      <td>0.543500</td>\n",
              "      <td>0.154300</td>\n",
              "      <td>2.000000</td>\n",
              "      <td>1.000000</td>\n",
              "      <td>0.002107</td>\n",
              "      <td>0.000011</td>\n",
              "      <td>0.000210</td>\n",
              "      <td>...</td>\n",
              "      <td>1.509800</td>\n",
              "      <td>1.531700</td>\n",
              "      <td>1.582900</td>\n",
              "      <td>1.747200</td>\n",
              "      <td>1.789500</td>\n",
              "      <td>1.628700</td>\n",
              "      <td>1.861700</td>\n",
              "      <td>1.955900</td>\n",
              "      <td>2.364000</td>\n",
              "      <td>0.000000</td>\n",
              "    </tr>\n",
              "    <tr>\n",
              "      <th>25%</th>\n",
              "      <td>62.750000</td>\n",
              "      <td>0.000000</td>\n",
              "      <td>0.762833</td>\n",
              "      <td>0.647053</td>\n",
              "      <td>0.386537</td>\n",
              "      <td>251.000000</td>\n",
              "      <td>250.000000</td>\n",
              "      <td>0.005003</td>\n",
              "      <td>0.000049</td>\n",
              "      <td>0.000970</td>\n",
              "      <td>...</td>\n",
              "      <td>2.408675</td>\n",
              "      <td>3.452800</td>\n",
              "      <td>3.354825</td>\n",
              "      <td>3.077450</td>\n",
              "      <td>2.937025</td>\n",
              "      <td>3.114375</td>\n",
              "      <td>3.665925</td>\n",
              "      <td>3.741275</td>\n",
              "      <td>3.948750</td>\n",
              "      <td>0.000000</td>\n",
              "    </tr>\n",
              "    <tr>\n",
              "      <th>50%</th>\n",
              "      <td>125.500000</td>\n",
              "      <td>1.000000</td>\n",
              "      <td>0.809655</td>\n",
              "      <td>0.700525</td>\n",
              "      <td>0.484355</td>\n",
              "      <td>317.000000</td>\n",
              "      <td>316.000000</td>\n",
              "      <td>0.006048</td>\n",
              "      <td>0.000077</td>\n",
              "      <td>0.001495</td>\n",
              "      <td>...</td>\n",
              "      <td>5.586300</td>\n",
              "      <td>7.062750</td>\n",
              "      <td>6.077400</td>\n",
              "      <td>4.770850</td>\n",
              "      <td>4.300450</td>\n",
              "      <td>4.741450</td>\n",
              "      <td>6.725700</td>\n",
              "      <td>7.334250</td>\n",
              "      <td>10.637250</td>\n",
              "      <td>1.000000</td>\n",
              "    </tr>\n",
              "    <tr>\n",
              "      <th>75%</th>\n",
              "      <td>188.250000</td>\n",
              "      <td>1.000000</td>\n",
              "      <td>0.834315</td>\n",
              "      <td>0.754985</td>\n",
              "      <td>0.586515</td>\n",
              "      <td>384.250000</td>\n",
              "      <td>383.250000</td>\n",
              "      <td>0.007528</td>\n",
              "      <td>0.000171</td>\n",
              "      <td>0.002520</td>\n",
              "      <td>...</td>\n",
              "      <td>28.958075</td>\n",
              "      <td>29.830850</td>\n",
              "      <td>21.944050</td>\n",
              "      <td>13.188000</td>\n",
              "      <td>10.876150</td>\n",
              "      <td>12.201325</td>\n",
              "      <td>21.922050</td>\n",
              "      <td>22.495175</td>\n",
              "      <td>61.125325</td>\n",
              "      <td>1.000000</td>\n",
              "    </tr>\n",
              "    <tr>\n",
              "      <th>max</th>\n",
              "      <td>251.000000</td>\n",
              "      <td>1.000000</td>\n",
              "      <td>0.907660</td>\n",
              "      <td>0.852640</td>\n",
              "      <td>0.871230</td>\n",
              "      <td>907.000000</td>\n",
              "      <td>905.000000</td>\n",
              "      <td>0.012966</td>\n",
              "      <td>0.003483</td>\n",
              "      <td>0.027750</td>\n",
              "      <td>...</td>\n",
              "      <td>239.788800</td>\n",
              "      <td>203.311300</td>\n",
              "      <td>121.542900</td>\n",
              "      <td>102.207000</td>\n",
              "      <td>85.571700</td>\n",
              "      <td>73.532200</td>\n",
              "      <td>62.007300</td>\n",
              "      <td>57.544300</td>\n",
              "      <td>156.423700</td>\n",
              "      <td>1.000000</td>\n",
              "    </tr>\n",
              "  </tbody>\n",
              "</table>\n",
              "<p>8 rows × 755 columns</p>\n",
              "</div>\n",
              "      <button class=\"colab-df-convert\" onclick=\"convertToInteractive('df-db61d7b7-6dbd-469b-806a-a697e117b25e')\"\n",
              "              title=\"Convert this dataframe to an interactive table.\"\n",
              "              style=\"display:none;\">\n",
              "        \n",
              "  <svg xmlns=\"http://www.w3.org/2000/svg\" height=\"24px\"viewBox=\"0 0 24 24\"\n",
              "       width=\"24px\">\n",
              "    <path d=\"M0 0h24v24H0V0z\" fill=\"none\"/>\n",
              "    <path d=\"M18.56 5.44l.94 2.06.94-2.06 2.06-.94-2.06-.94-.94-2.06-.94 2.06-2.06.94zm-11 1L8.5 8.5l.94-2.06 2.06-.94-2.06-.94L8.5 2.5l-.94 2.06-2.06.94zm10 10l.94 2.06.94-2.06 2.06-.94-2.06-.94-.94-2.06-.94 2.06-2.06.94z\"/><path d=\"M17.41 7.96l-1.37-1.37c-.4-.4-.92-.59-1.43-.59-.52 0-1.04.2-1.43.59L10.3 9.45l-7.72 7.72c-.78.78-.78 2.05 0 2.83L4 21.41c.39.39.9.59 1.41.59.51 0 1.02-.2 1.41-.59l7.78-7.78 2.81-2.81c.8-.78.8-2.07 0-2.86zM5.41 20L4 18.59l7.72-7.72 1.47 1.35L5.41 20z\"/>\n",
              "  </svg>\n",
              "      </button>\n",
              "      \n",
              "  <style>\n",
              "    .colab-df-container {\n",
              "      display:flex;\n",
              "      flex-wrap:wrap;\n",
              "      gap: 12px;\n",
              "    }\n",
              "\n",
              "    .colab-df-convert {\n",
              "      background-color: #E8F0FE;\n",
              "      border: none;\n",
              "      border-radius: 50%;\n",
              "      cursor: pointer;\n",
              "      display: none;\n",
              "      fill: #1967D2;\n",
              "      height: 32px;\n",
              "      padding: 0 0 0 0;\n",
              "      width: 32px;\n",
              "    }\n",
              "\n",
              "    .colab-df-convert:hover {\n",
              "      background-color: #E2EBFA;\n",
              "      box-shadow: 0px 1px 2px rgba(60, 64, 67, 0.3), 0px 1px 3px 1px rgba(60, 64, 67, 0.15);\n",
              "      fill: #174EA6;\n",
              "    }\n",
              "\n",
              "    [theme=dark] .colab-df-convert {\n",
              "      background-color: #3B4455;\n",
              "      fill: #D2E3FC;\n",
              "    }\n",
              "\n",
              "    [theme=dark] .colab-df-convert:hover {\n",
              "      background-color: #434B5C;\n",
              "      box-shadow: 0px 1px 3px 1px rgba(0, 0, 0, 0.15);\n",
              "      filter: drop-shadow(0px 1px 2px rgba(0, 0, 0, 0.3));\n",
              "      fill: #FFFFFF;\n",
              "    }\n",
              "  </style>\n",
              "\n",
              "      <script>\n",
              "        const buttonEl =\n",
              "          document.querySelector('#df-db61d7b7-6dbd-469b-806a-a697e117b25e button.colab-df-convert');\n",
              "        buttonEl.style.display =\n",
              "          google.colab.kernel.accessAllowed ? 'block' : 'none';\n",
              "\n",
              "        async function convertToInteractive(key) {\n",
              "          const element = document.querySelector('#df-db61d7b7-6dbd-469b-806a-a697e117b25e');\n",
              "          const dataTable =\n",
              "            await google.colab.kernel.invokeFunction('convertToInteractive',\n",
              "                                                     [key], {});\n",
              "          if (!dataTable) return;\n",
              "\n",
              "          const docLinkHtml = 'Like what you see? Visit the ' +\n",
              "            '<a target=\"_blank\" href=https://colab.research.google.com/notebooks/data_table.ipynb>data table notebook</a>'\n",
              "            + ' to learn more about interactive tables.';\n",
              "          element.innerHTML = '';\n",
              "          dataTable['output_type'] = 'display_data';\n",
              "          await google.colab.output.renderOutput(dataTable, element);\n",
              "          const docLink = document.createElement('div');\n",
              "          docLink.innerHTML = docLinkHtml;\n",
              "          element.appendChild(docLink);\n",
              "        }\n",
              "      </script>\n",
              "    </div>\n",
              "  </div>\n",
              "  "
            ]
          },
          "metadata": {},
          "execution_count": 5
        }
      ],
      "source": [
        "data.describe()"
      ]
    },
    {
      "cell_type": "code",
      "source": [
        "data.info()"
      ],
      "metadata": {
        "colab": {
          "base_uri": "https://localhost:8080/"
        },
        "id": "wq0PvPdlJKRh",
        "outputId": "e86d5c5f-404a-437f-c79f-f2b99defa4c8"
      },
      "execution_count": null,
      "outputs": [
        {
          "output_type": "stream",
          "name": "stdout",
          "text": [
            "<class 'pandas.core.frame.DataFrame'>\n",
            "RangeIndex: 756 entries, 0 to 755\n",
            "Columns: 755 entries, id to class\n",
            "dtypes: float64(749), int64(6)\n",
            "memory usage: 4.4 MB\n"
          ]
        }
      ]
    },
    {
      "cell_type": "code",
      "execution_count": null,
      "metadata": {
        "colab": {
          "base_uri": "https://localhost:8080/"
        },
        "id": "zJFrdTJRhM_3",
        "outputId": "73666f4c-d1ac-43de-cf4b-7413d170358b"
      },
      "outputs": [
        {
          "output_type": "execute_result",
          "data": {
            "text/plain": [
              "1    564\n",
              "0    192\n",
              "Name: class, dtype: int64"
            ]
          },
          "metadata": {},
          "execution_count": 7
        }
      ],
      "source": [
        "x=data.loc[:,data.columns!=\"class\"]\n",
        "y=data.loc[:,\"class\"]\n",
        "y.value_counts()"
      ]
    },
    {
      "cell_type": "code",
      "execution_count": null,
      "metadata": {
        "colab": {
          "base_uri": "https://localhost:8080/"
        },
        "id": "Pmjt2J23hy1P",
        "outputId": "b15f9442-52c1-4d82-bfe3-a4c76ad413d3"
      },
      "outputs": [
        {
          "output_type": "execute_result",
          "data": {
            "text/plain": [
              "0"
            ]
          },
          "metadata": {},
          "execution_count": 8
        }
      ],
      "source": [
        "data.isnull().sum().sum()"
      ]
    },
    {
      "cell_type": "code",
      "execution_count": null,
      "metadata": {
        "colab": {
          "base_uri": "https://localhost:8080/",
          "height": 488
        },
        "id": "H4LvYR8siXxs",
        "outputId": "34e87f48-b7bd-4724-9c2f-f9f66a1399cf"
      },
      "outputs": [
        {
          "output_type": "execute_result",
          "data": {
            "text/plain": [
              "      id  gender      PPE      DFA     RPDE  numPulses  numPeriodsPulses  \\\n",
              "182   60       0  0.47012  0.68923  0.56710        335               334   \n",
              "575  191       1  0.81741  0.63870  0.54005        249               248   \n",
              "399  133       0  0.84591  0.60866  0.59179        472               471   \n",
              "583  194       0  0.86410  0.72404  0.21847        520               519   \n",
              "223   74       1  0.47019  0.75495  0.63768        227               226   \n",
              "..   ...     ...      ...      ...      ...        ...               ...   \n",
              "71    23       1  0.31431  0.77186  0.62721        231               230   \n",
              "106   35       0  0.82435  0.67512  0.37135        415               414   \n",
              "270   90       0  0.50598  0.64620  0.69831        168               167   \n",
              "435  145       1  0.82759  0.63558  0.37521        344               343   \n",
              "102   34       0  0.80056  0.73215  0.48029        380               379   \n",
              "\n",
              "     meanPeriodPulses  stdDevPeriodPulses  locPctJitter  ...  \\\n",
              "182          0.005758            0.001560       0.00351  ...   \n",
              "575          0.007776            0.000053       0.00121  ...   \n",
              "399          0.004091            0.000234       0.00263  ...   \n",
              "583          0.003713            0.000022       0.00048  ...   \n",
              "223          0.008497            0.002735       0.00835  ...   \n",
              "..                ...                 ...           ...  ...   \n",
              "71           0.008341            0.000250       0.00327  ...   \n",
              "106          0.004644            0.000030       0.00076  ...   \n",
              "270          0.011474            0.000296       0.00729  ...   \n",
              "435          0.005612            0.000053       0.00121  ...   \n",
              "102          0.005073            0.000059       0.00164  ...   \n",
              "\n",
              "     tqwt_kurtosisValue_dec_27  tqwt_kurtosisValue_dec_28  \\\n",
              "182                     8.2985                    12.0478   \n",
              "575                     1.5844                     1.5883   \n",
              "399                    76.6302                    35.0462   \n",
              "583                    69.8380                    28.8705   \n",
              "223                   184.0917                   115.2017   \n",
              "..                         ...                        ...   \n",
              "71                      3.4251                     4.7490   \n",
              "106                     6.3202                     5.2622   \n",
              "270                     2.1926                     6.1377   \n",
              "435                    57.3059                   160.6611   \n",
              "102                    71.6880                    26.0369   \n",
              "\n",
              "     tqwt_kurtosisValue_dec_29  tqwt_kurtosisValue_dec_30  \\\n",
              "182                     7.6149                     2.6906   \n",
              "575                     3.0578                     2.6221   \n",
              "399                    62.7041                    50.5068   \n",
              "583                    27.0722                    16.8942   \n",
              "223                    76.3111                    10.3347   \n",
              "..                         ...                        ...   \n",
              "71                      7.6582                    12.3930   \n",
              "106                     3.3257                     2.6209   \n",
              "270                     6.1270                     4.7823   \n",
              "435                   130.0455                   100.7989   \n",
              "102                    27.6332                     4.1361   \n",
              "\n",
              "     tqwt_kurtosisValue_dec_31  tqwt_kurtosisValue_dec_32  \\\n",
              "182                     2.4633                     2.7684   \n",
              "575                     2.9641                     3.1141   \n",
              "399                    28.7728                    23.4105   \n",
              "583                     6.9145                     7.9410   \n",
              "223                     3.3531                     3.5236   \n",
              "..                         ...                        ...   \n",
              "71                      3.1410                     2.9371   \n",
              "106                     2.5962                     2.9097   \n",
              "270                     4.8881                     2.5868   \n",
              "435                    56.3096                    32.9181   \n",
              "102                     2.5648                     3.1014   \n",
              "\n",
              "     tqwt_kurtosisValue_dec_33  tqwt_kurtosisValue_dec_34  \\\n",
              "182                    18.1463                    21.1227   \n",
              "575                     2.9502                     4.4095   \n",
              "399                    30.2428                    44.5080   \n",
              "583                     9.1942                     6.2766   \n",
              "223                    16.8188                    30.3167   \n",
              "..                         ...                        ...   \n",
              "71                      4.4207                     6.4558   \n",
              "106                     3.4120                     2.6230   \n",
              "270                     2.9627                     3.8031   \n",
              "435                    39.1589                    46.2313   \n",
              "102                     4.5010                    10.0738   \n",
              "\n",
              "     tqwt_kurtosisValue_dec_35  tqwt_kurtosisValue_dec_36  \n",
              "182                    25.0390                    10.1173  \n",
              "575                     3.3050                    11.6049  \n",
              "399                    41.9666                    79.8961  \n",
              "583                     5.1194                     6.1003  \n",
              "223                    27.3304                    14.9176  \n",
              "..                         ...                        ...  \n",
              "71                      4.9663                     5.0628  \n",
              "106                     2.7187                     3.0654  \n",
              "270                     3.7451                     2.9601  \n",
              "435                    38.2874                    42.7546  \n",
              "102                    13.0857                     3.8367  \n",
              "\n",
              "[529 rows x 754 columns]"
            ],
            "text/html": [
              "\n",
              "  <div id=\"df-3760bb9c-d830-47fc-aa79-49e2a8321c33\">\n",
              "    <div class=\"colab-df-container\">\n",
              "      <div>\n",
              "<style scoped>\n",
              "    .dataframe tbody tr th:only-of-type {\n",
              "        vertical-align: middle;\n",
              "    }\n",
              "\n",
              "    .dataframe tbody tr th {\n",
              "        vertical-align: top;\n",
              "    }\n",
              "\n",
              "    .dataframe thead th {\n",
              "        text-align: right;\n",
              "    }\n",
              "</style>\n",
              "<table border=\"1\" class=\"dataframe\">\n",
              "  <thead>\n",
              "    <tr style=\"text-align: right;\">\n",
              "      <th></th>\n",
              "      <th>id</th>\n",
              "      <th>gender</th>\n",
              "      <th>PPE</th>\n",
              "      <th>DFA</th>\n",
              "      <th>RPDE</th>\n",
              "      <th>numPulses</th>\n",
              "      <th>numPeriodsPulses</th>\n",
              "      <th>meanPeriodPulses</th>\n",
              "      <th>stdDevPeriodPulses</th>\n",
              "      <th>locPctJitter</th>\n",
              "      <th>...</th>\n",
              "      <th>tqwt_kurtosisValue_dec_27</th>\n",
              "      <th>tqwt_kurtosisValue_dec_28</th>\n",
              "      <th>tqwt_kurtosisValue_dec_29</th>\n",
              "      <th>tqwt_kurtosisValue_dec_30</th>\n",
              "      <th>tqwt_kurtosisValue_dec_31</th>\n",
              "      <th>tqwt_kurtosisValue_dec_32</th>\n",
              "      <th>tqwt_kurtosisValue_dec_33</th>\n",
              "      <th>tqwt_kurtosisValue_dec_34</th>\n",
              "      <th>tqwt_kurtosisValue_dec_35</th>\n",
              "      <th>tqwt_kurtosisValue_dec_36</th>\n",
              "    </tr>\n",
              "  </thead>\n",
              "  <tbody>\n",
              "    <tr>\n",
              "      <th>182</th>\n",
              "      <td>60</td>\n",
              "      <td>0</td>\n",
              "      <td>0.47012</td>\n",
              "      <td>0.68923</td>\n",
              "      <td>0.56710</td>\n",
              "      <td>335</td>\n",
              "      <td>334</td>\n",
              "      <td>0.005758</td>\n",
              "      <td>0.001560</td>\n",
              "      <td>0.00351</td>\n",
              "      <td>...</td>\n",
              "      <td>8.2985</td>\n",
              "      <td>12.0478</td>\n",
              "      <td>7.6149</td>\n",
              "      <td>2.6906</td>\n",
              "      <td>2.4633</td>\n",
              "      <td>2.7684</td>\n",
              "      <td>18.1463</td>\n",
              "      <td>21.1227</td>\n",
              "      <td>25.0390</td>\n",
              "      <td>10.1173</td>\n",
              "    </tr>\n",
              "    <tr>\n",
              "      <th>575</th>\n",
              "      <td>191</td>\n",
              "      <td>1</td>\n",
              "      <td>0.81741</td>\n",
              "      <td>0.63870</td>\n",
              "      <td>0.54005</td>\n",
              "      <td>249</td>\n",
              "      <td>248</td>\n",
              "      <td>0.007776</td>\n",
              "      <td>0.000053</td>\n",
              "      <td>0.00121</td>\n",
              "      <td>...</td>\n",
              "      <td>1.5844</td>\n",
              "      <td>1.5883</td>\n",
              "      <td>3.0578</td>\n",
              "      <td>2.6221</td>\n",
              "      <td>2.9641</td>\n",
              "      <td>3.1141</td>\n",
              "      <td>2.9502</td>\n",
              "      <td>4.4095</td>\n",
              "      <td>3.3050</td>\n",
              "      <td>11.6049</td>\n",
              "    </tr>\n",
              "    <tr>\n",
              "      <th>399</th>\n",
              "      <td>133</td>\n",
              "      <td>0</td>\n",
              "      <td>0.84591</td>\n",
              "      <td>0.60866</td>\n",
              "      <td>0.59179</td>\n",
              "      <td>472</td>\n",
              "      <td>471</td>\n",
              "      <td>0.004091</td>\n",
              "      <td>0.000234</td>\n",
              "      <td>0.00263</td>\n",
              "      <td>...</td>\n",
              "      <td>76.6302</td>\n",
              "      <td>35.0462</td>\n",
              "      <td>62.7041</td>\n",
              "      <td>50.5068</td>\n",
              "      <td>28.7728</td>\n",
              "      <td>23.4105</td>\n",
              "      <td>30.2428</td>\n",
              "      <td>44.5080</td>\n",
              "      <td>41.9666</td>\n",
              "      <td>79.8961</td>\n",
              "    </tr>\n",
              "    <tr>\n",
              "      <th>583</th>\n",
              "      <td>194</td>\n",
              "      <td>0</td>\n",
              "      <td>0.86410</td>\n",
              "      <td>0.72404</td>\n",
              "      <td>0.21847</td>\n",
              "      <td>520</td>\n",
              "      <td>519</td>\n",
              "      <td>0.003713</td>\n",
              "      <td>0.000022</td>\n",
              "      <td>0.00048</td>\n",
              "      <td>...</td>\n",
              "      <td>69.8380</td>\n",
              "      <td>28.8705</td>\n",
              "      <td>27.0722</td>\n",
              "      <td>16.8942</td>\n",
              "      <td>6.9145</td>\n",
              "      <td>7.9410</td>\n",
              "      <td>9.1942</td>\n",
              "      <td>6.2766</td>\n",
              "      <td>5.1194</td>\n",
              "      <td>6.1003</td>\n",
              "    </tr>\n",
              "    <tr>\n",
              "      <th>223</th>\n",
              "      <td>74</td>\n",
              "      <td>1</td>\n",
              "      <td>0.47019</td>\n",
              "      <td>0.75495</td>\n",
              "      <td>0.63768</td>\n",
              "      <td>227</td>\n",
              "      <td>226</td>\n",
              "      <td>0.008497</td>\n",
              "      <td>0.002735</td>\n",
              "      <td>0.00835</td>\n",
              "      <td>...</td>\n",
              "      <td>184.0917</td>\n",
              "      <td>115.2017</td>\n",
              "      <td>76.3111</td>\n",
              "      <td>10.3347</td>\n",
              "      <td>3.3531</td>\n",
              "      <td>3.5236</td>\n",
              "      <td>16.8188</td>\n",
              "      <td>30.3167</td>\n",
              "      <td>27.3304</td>\n",
              "      <td>14.9176</td>\n",
              "    </tr>\n",
              "    <tr>\n",
              "      <th>...</th>\n",
              "      <td>...</td>\n",
              "      <td>...</td>\n",
              "      <td>...</td>\n",
              "      <td>...</td>\n",
              "      <td>...</td>\n",
              "      <td>...</td>\n",
              "      <td>...</td>\n",
              "      <td>...</td>\n",
              "      <td>...</td>\n",
              "      <td>...</td>\n",
              "      <td>...</td>\n",
              "      <td>...</td>\n",
              "      <td>...</td>\n",
              "      <td>...</td>\n",
              "      <td>...</td>\n",
              "      <td>...</td>\n",
              "      <td>...</td>\n",
              "      <td>...</td>\n",
              "      <td>...</td>\n",
              "      <td>...</td>\n",
              "      <td>...</td>\n",
              "    </tr>\n",
              "    <tr>\n",
              "      <th>71</th>\n",
              "      <td>23</td>\n",
              "      <td>1</td>\n",
              "      <td>0.31431</td>\n",
              "      <td>0.77186</td>\n",
              "      <td>0.62721</td>\n",
              "      <td>231</td>\n",
              "      <td>230</td>\n",
              "      <td>0.008341</td>\n",
              "      <td>0.000250</td>\n",
              "      <td>0.00327</td>\n",
              "      <td>...</td>\n",
              "      <td>3.4251</td>\n",
              "      <td>4.7490</td>\n",
              "      <td>7.6582</td>\n",
              "      <td>12.3930</td>\n",
              "      <td>3.1410</td>\n",
              "      <td>2.9371</td>\n",
              "      <td>4.4207</td>\n",
              "      <td>6.4558</td>\n",
              "      <td>4.9663</td>\n",
              "      <td>5.0628</td>\n",
              "    </tr>\n",
              "    <tr>\n",
              "      <th>106</th>\n",
              "      <td>35</td>\n",
              "      <td>0</td>\n",
              "      <td>0.82435</td>\n",
              "      <td>0.67512</td>\n",
              "      <td>0.37135</td>\n",
              "      <td>415</td>\n",
              "      <td>414</td>\n",
              "      <td>0.004644</td>\n",
              "      <td>0.000030</td>\n",
              "      <td>0.00076</td>\n",
              "      <td>...</td>\n",
              "      <td>6.3202</td>\n",
              "      <td>5.2622</td>\n",
              "      <td>3.3257</td>\n",
              "      <td>2.6209</td>\n",
              "      <td>2.5962</td>\n",
              "      <td>2.9097</td>\n",
              "      <td>3.4120</td>\n",
              "      <td>2.6230</td>\n",
              "      <td>2.7187</td>\n",
              "      <td>3.0654</td>\n",
              "    </tr>\n",
              "    <tr>\n",
              "      <th>270</th>\n",
              "      <td>90</td>\n",
              "      <td>0</td>\n",
              "      <td>0.50598</td>\n",
              "      <td>0.64620</td>\n",
              "      <td>0.69831</td>\n",
              "      <td>168</td>\n",
              "      <td>167</td>\n",
              "      <td>0.011474</td>\n",
              "      <td>0.000296</td>\n",
              "      <td>0.00729</td>\n",
              "      <td>...</td>\n",
              "      <td>2.1926</td>\n",
              "      <td>6.1377</td>\n",
              "      <td>6.1270</td>\n",
              "      <td>4.7823</td>\n",
              "      <td>4.8881</td>\n",
              "      <td>2.5868</td>\n",
              "      <td>2.9627</td>\n",
              "      <td>3.8031</td>\n",
              "      <td>3.7451</td>\n",
              "      <td>2.9601</td>\n",
              "    </tr>\n",
              "    <tr>\n",
              "      <th>435</th>\n",
              "      <td>145</td>\n",
              "      <td>1</td>\n",
              "      <td>0.82759</td>\n",
              "      <td>0.63558</td>\n",
              "      <td>0.37521</td>\n",
              "      <td>344</td>\n",
              "      <td>343</td>\n",
              "      <td>0.005612</td>\n",
              "      <td>0.000053</td>\n",
              "      <td>0.00121</td>\n",
              "      <td>...</td>\n",
              "      <td>57.3059</td>\n",
              "      <td>160.6611</td>\n",
              "      <td>130.0455</td>\n",
              "      <td>100.7989</td>\n",
              "      <td>56.3096</td>\n",
              "      <td>32.9181</td>\n",
              "      <td>39.1589</td>\n",
              "      <td>46.2313</td>\n",
              "      <td>38.2874</td>\n",
              "      <td>42.7546</td>\n",
              "    </tr>\n",
              "    <tr>\n",
              "      <th>102</th>\n",
              "      <td>34</td>\n",
              "      <td>0</td>\n",
              "      <td>0.80056</td>\n",
              "      <td>0.73215</td>\n",
              "      <td>0.48029</td>\n",
              "      <td>380</td>\n",
              "      <td>379</td>\n",
              "      <td>0.005073</td>\n",
              "      <td>0.000059</td>\n",
              "      <td>0.00164</td>\n",
              "      <td>...</td>\n",
              "      <td>71.6880</td>\n",
              "      <td>26.0369</td>\n",
              "      <td>27.6332</td>\n",
              "      <td>4.1361</td>\n",
              "      <td>2.5648</td>\n",
              "      <td>3.1014</td>\n",
              "      <td>4.5010</td>\n",
              "      <td>10.0738</td>\n",
              "      <td>13.0857</td>\n",
              "      <td>3.8367</td>\n",
              "    </tr>\n",
              "  </tbody>\n",
              "</table>\n",
              "<p>529 rows × 754 columns</p>\n",
              "</div>\n",
              "      <button class=\"colab-df-convert\" onclick=\"convertToInteractive('df-3760bb9c-d830-47fc-aa79-49e2a8321c33')\"\n",
              "              title=\"Convert this dataframe to an interactive table.\"\n",
              "              style=\"display:none;\">\n",
              "        \n",
              "  <svg xmlns=\"http://www.w3.org/2000/svg\" height=\"24px\"viewBox=\"0 0 24 24\"\n",
              "       width=\"24px\">\n",
              "    <path d=\"M0 0h24v24H0V0z\" fill=\"none\"/>\n",
              "    <path d=\"M18.56 5.44l.94 2.06.94-2.06 2.06-.94-2.06-.94-.94-2.06-.94 2.06-2.06.94zm-11 1L8.5 8.5l.94-2.06 2.06-.94-2.06-.94L8.5 2.5l-.94 2.06-2.06.94zm10 10l.94 2.06.94-2.06 2.06-.94-2.06-.94-.94-2.06-.94 2.06-2.06.94z\"/><path d=\"M17.41 7.96l-1.37-1.37c-.4-.4-.92-.59-1.43-.59-.52 0-1.04.2-1.43.59L10.3 9.45l-7.72 7.72c-.78.78-.78 2.05 0 2.83L4 21.41c.39.39.9.59 1.41.59.51 0 1.02-.2 1.41-.59l7.78-7.78 2.81-2.81c.8-.78.8-2.07 0-2.86zM5.41 20L4 18.59l7.72-7.72 1.47 1.35L5.41 20z\"/>\n",
              "  </svg>\n",
              "      </button>\n",
              "      \n",
              "  <style>\n",
              "    .colab-df-container {\n",
              "      display:flex;\n",
              "      flex-wrap:wrap;\n",
              "      gap: 12px;\n",
              "    }\n",
              "\n",
              "    .colab-df-convert {\n",
              "      background-color: #E8F0FE;\n",
              "      border: none;\n",
              "      border-radius: 50%;\n",
              "      cursor: pointer;\n",
              "      display: none;\n",
              "      fill: #1967D2;\n",
              "      height: 32px;\n",
              "      padding: 0 0 0 0;\n",
              "      width: 32px;\n",
              "    }\n",
              "\n",
              "    .colab-df-convert:hover {\n",
              "      background-color: #E2EBFA;\n",
              "      box-shadow: 0px 1px 2px rgba(60, 64, 67, 0.3), 0px 1px 3px 1px rgba(60, 64, 67, 0.15);\n",
              "      fill: #174EA6;\n",
              "    }\n",
              "\n",
              "    [theme=dark] .colab-df-convert {\n",
              "      background-color: #3B4455;\n",
              "      fill: #D2E3FC;\n",
              "    }\n",
              "\n",
              "    [theme=dark] .colab-df-convert:hover {\n",
              "      background-color: #434B5C;\n",
              "      box-shadow: 0px 1px 3px 1px rgba(0, 0, 0, 0.15);\n",
              "      filter: drop-shadow(0px 1px 2px rgba(0, 0, 0, 0.3));\n",
              "      fill: #FFFFFF;\n",
              "    }\n",
              "  </style>\n",
              "\n",
              "      <script>\n",
              "        const buttonEl =\n",
              "          document.querySelector('#df-3760bb9c-d830-47fc-aa79-49e2a8321c33 button.colab-df-convert');\n",
              "        buttonEl.style.display =\n",
              "          google.colab.kernel.accessAllowed ? 'block' : 'none';\n",
              "\n",
              "        async function convertToInteractive(key) {\n",
              "          const element = document.querySelector('#df-3760bb9c-d830-47fc-aa79-49e2a8321c33');\n",
              "          const dataTable =\n",
              "            await google.colab.kernel.invokeFunction('convertToInteractive',\n",
              "                                                     [key], {});\n",
              "          if (!dataTable) return;\n",
              "\n",
              "          const docLinkHtml = 'Like what you see? Visit the ' +\n",
              "            '<a target=\"_blank\" href=https://colab.research.google.com/notebooks/data_table.ipynb>data table notebook</a>'\n",
              "            + ' to learn more about interactive tables.';\n",
              "          element.innerHTML = '';\n",
              "          dataTable['output_type'] = 'display_data';\n",
              "          await google.colab.output.renderOutput(dataTable, element);\n",
              "          const docLink = document.createElement('div');\n",
              "          docLink.innerHTML = docLinkHtml;\n",
              "          element.appendChild(docLink);\n",
              "        }\n",
              "      </script>\n",
              "    </div>\n",
              "  </div>\n",
              "  "
            ]
          },
          "metadata": {},
          "execution_count": 9
        }
      ],
      "source": [
        "x_train,x_test,y_train,y_test= train_test_split(x,y,random_state=42,test_size=0.3)\n",
        "x_train"
      ]
    },
    {
      "cell_type": "code",
      "execution_count": null,
      "metadata": {
        "colab": {
          "base_uri": "https://localhost:8080/"
        },
        "id": "fTaJ4RfvifdD",
        "outputId": "808cd2d6-2af5-4392-9321-16e0fd90b011"
      },
      "outputs": [
        {
          "output_type": "execute_result",
          "data": {
            "text/plain": [
              "((529, 754), (227, 754))"
            ]
          },
          "metadata": {},
          "execution_count": 10
        }
      ],
      "source": [
        "sc=StandardScaler()\n",
        "x_train.loc[:,:]= sc.fit_transform(x_train)\n",
        "x_test.loc[:,:]=sc.transform(x_test)\n",
        "x_train.shape , x_test.shape"
      ]
    },
    {
      "cell_type": "code",
      "source": [
        "data[['gender', 'class']].groupby(['class'], as_index=False).mean().sort_values(by='class', ascending=False)"
      ],
      "metadata": {
        "colab": {
          "base_uri": "https://localhost:8080/",
          "height": 112
        },
        "id": "CUo4VjzThJKW",
        "outputId": "3f8c49da-8856-4de3-82bb-7e05e2257f5e"
      },
      "execution_count": null,
      "outputs": [
        {
          "output_type": "execute_result",
          "data": {
            "text/plain": [
              "   class    gender\n",
              "1      1  0.569149\n",
              "0      0  0.359375"
            ],
            "text/html": [
              "\n",
              "  <div id=\"df-79b36f76-2df0-4cc2-88f2-c809e7e37e67\">\n",
              "    <div class=\"colab-df-container\">\n",
              "      <div>\n",
              "<style scoped>\n",
              "    .dataframe tbody tr th:only-of-type {\n",
              "        vertical-align: middle;\n",
              "    }\n",
              "\n",
              "    .dataframe tbody tr th {\n",
              "        vertical-align: top;\n",
              "    }\n",
              "\n",
              "    .dataframe thead th {\n",
              "        text-align: right;\n",
              "    }\n",
              "</style>\n",
              "<table border=\"1\" class=\"dataframe\">\n",
              "  <thead>\n",
              "    <tr style=\"text-align: right;\">\n",
              "      <th></th>\n",
              "      <th>class</th>\n",
              "      <th>gender</th>\n",
              "    </tr>\n",
              "  </thead>\n",
              "  <tbody>\n",
              "    <tr>\n",
              "      <th>1</th>\n",
              "      <td>1</td>\n",
              "      <td>0.569149</td>\n",
              "    </tr>\n",
              "    <tr>\n",
              "      <th>0</th>\n",
              "      <td>0</td>\n",
              "      <td>0.359375</td>\n",
              "    </tr>\n",
              "  </tbody>\n",
              "</table>\n",
              "</div>\n",
              "      <button class=\"colab-df-convert\" onclick=\"convertToInteractive('df-79b36f76-2df0-4cc2-88f2-c809e7e37e67')\"\n",
              "              title=\"Convert this dataframe to an interactive table.\"\n",
              "              style=\"display:none;\">\n",
              "        \n",
              "  <svg xmlns=\"http://www.w3.org/2000/svg\" height=\"24px\"viewBox=\"0 0 24 24\"\n",
              "       width=\"24px\">\n",
              "    <path d=\"M0 0h24v24H0V0z\" fill=\"none\"/>\n",
              "    <path d=\"M18.56 5.44l.94 2.06.94-2.06 2.06-.94-2.06-.94-.94-2.06-.94 2.06-2.06.94zm-11 1L8.5 8.5l.94-2.06 2.06-.94-2.06-.94L8.5 2.5l-.94 2.06-2.06.94zm10 10l.94 2.06.94-2.06 2.06-.94-2.06-.94-.94-2.06-.94 2.06-2.06.94z\"/><path d=\"M17.41 7.96l-1.37-1.37c-.4-.4-.92-.59-1.43-.59-.52 0-1.04.2-1.43.59L10.3 9.45l-7.72 7.72c-.78.78-.78 2.05 0 2.83L4 21.41c.39.39.9.59 1.41.59.51 0 1.02-.2 1.41-.59l7.78-7.78 2.81-2.81c.8-.78.8-2.07 0-2.86zM5.41 20L4 18.59l7.72-7.72 1.47 1.35L5.41 20z\"/>\n",
              "  </svg>\n",
              "      </button>\n",
              "      \n",
              "  <style>\n",
              "    .colab-df-container {\n",
              "      display:flex;\n",
              "      flex-wrap:wrap;\n",
              "      gap: 12px;\n",
              "    }\n",
              "\n",
              "    .colab-df-convert {\n",
              "      background-color: #E8F0FE;\n",
              "      border: none;\n",
              "      border-radius: 50%;\n",
              "      cursor: pointer;\n",
              "      display: none;\n",
              "      fill: #1967D2;\n",
              "      height: 32px;\n",
              "      padding: 0 0 0 0;\n",
              "      width: 32px;\n",
              "    }\n",
              "\n",
              "    .colab-df-convert:hover {\n",
              "      background-color: #E2EBFA;\n",
              "      box-shadow: 0px 1px 2px rgba(60, 64, 67, 0.3), 0px 1px 3px 1px rgba(60, 64, 67, 0.15);\n",
              "      fill: #174EA6;\n",
              "    }\n",
              "\n",
              "    [theme=dark] .colab-df-convert {\n",
              "      background-color: #3B4455;\n",
              "      fill: #D2E3FC;\n",
              "    }\n",
              "\n",
              "    [theme=dark] .colab-df-convert:hover {\n",
              "      background-color: #434B5C;\n",
              "      box-shadow: 0px 1px 3px 1px rgba(0, 0, 0, 0.15);\n",
              "      filter: drop-shadow(0px 1px 2px rgba(0, 0, 0, 0.3));\n",
              "      fill: #FFFFFF;\n",
              "    }\n",
              "  </style>\n",
              "\n",
              "      <script>\n",
              "        const buttonEl =\n",
              "          document.querySelector('#df-79b36f76-2df0-4cc2-88f2-c809e7e37e67 button.colab-df-convert');\n",
              "        buttonEl.style.display =\n",
              "          google.colab.kernel.accessAllowed ? 'block' : 'none';\n",
              "\n",
              "        async function convertToInteractive(key) {\n",
              "          const element = document.querySelector('#df-79b36f76-2df0-4cc2-88f2-c809e7e37e67');\n",
              "          const dataTable =\n",
              "            await google.colab.kernel.invokeFunction('convertToInteractive',\n",
              "                                                     [key], {});\n",
              "          if (!dataTable) return;\n",
              "\n",
              "          const docLinkHtml = 'Like what you see? Visit the ' +\n",
              "            '<a target=\"_blank\" href=https://colab.research.google.com/notebooks/data_table.ipynb>data table notebook</a>'\n",
              "            + ' to learn more about interactive tables.';\n",
              "          element.innerHTML = '';\n",
              "          dataTable['output_type'] = 'display_data';\n",
              "          await google.colab.output.renderOutput(dataTable, element);\n",
              "          const docLink = document.createElement('div');\n",
              "          docLink.innerHTML = docLinkHtml;\n",
              "          element.appendChild(docLink);\n",
              "        }\n",
              "      </script>\n",
              "    </div>\n",
              "  </div>\n",
              "  "
            ]
          },
          "metadata": {},
          "execution_count": 11
        }
      ]
    },
    {
      "cell_type": "code",
      "source": [
        "y_train.isnull().sum()"
      ],
      "metadata": {
        "colab": {
          "base_uri": "https://localhost:8080/"
        },
        "id": "ZbXTNwxvx_CY",
        "outputId": "c8cb9941-5419-453c-da3c-ee443f505a6d"
      },
      "execution_count": null,
      "outputs": [
        {
          "output_type": "execute_result",
          "data": {
            "text/plain": [
              "0"
            ]
          },
          "metadata": {},
          "execution_count": 12
        }
      ]
    },
    {
      "cell_type": "code",
      "source": [
        "af= RandomForestClassifier(n_estimators=150,random_state=42)  \n",
        "af.fit(x_train,y_train)\n",
        "a_pred=af.predict(x_test)\n",
        "a=metrics.accuracy_score(a_pred,y_test)*100\n",
        "b=metrics.precision_score(y_test,a_pred)*100\n",
        "c=metrics.recall_score(y_test,a_pred)*100\n",
        "d=metrics.f1_score(y_test, a_pred)*100\n",
        "print(\"accuracy_rf_test:\",a)\n",
        "print(\"Precision_rf_test:\",b)\n",
        "print(\"Recall_rf_test:\",c)\n",
        "print(\"f1_rf_test:\",d)\n",
        "print()\n",
        "a_pred_train=af.predict(x_train)\n",
        "a_train=metrics.accuracy_score(a_pred_train,y_train)*100\n",
        "b_train=metrics.precision_score(y_train,a_pred_train)*100\n",
        "c_train=metrics.recall_score(y_train,a_pred_train)*100\n",
        "d_train=metrics.f1_score(y_train, a_pred_train)*100\n",
        "print(\"accuracy_rf_train:\",a_train)\n",
        "print(\"Precision_rf_train:\",b_train)\n",
        "print(\"Recall_rf_train:\",c_train)\n",
        "print(\"f1_rf_train:\",d_train)"
      ],
      "metadata": {
        "colab": {
          "base_uri": "https://localhost:8080/"
        },
        "id": "Fa8rLrieyEhJ",
        "outputId": "e5cf29f1-7ffc-424d-8dfd-853351359bbf"
      },
      "execution_count": null,
      "outputs": [
        {
          "output_type": "stream",
          "name": "stdout",
          "text": [
            "accuracy_rf_test: 85.90308370044053\n",
            "Precision_rf_test: 85.63829787234043\n",
            "Recall_rf_test: 96.98795180722891\n",
            "f1_rf_test: 90.96045197740114\n",
            "\n",
            "accuracy_rf_train: 100.0\n",
            "Precision_rf_train: 100.0\n",
            "Recall_rf_train: 100.0\n",
            "f1_rf_train: 100.0\n"
          ]
        }
      ]
    },
    {
      "cell_type": "code",
      "source": [
        "cm_rf = confusion_matrix(y_test, a_pred)\n",
        "plot_confusion_matrix(af, x_test, y_test) \n",
        "plt.title('Confusion matrix for RF')\n",
        "plt.show()"
      ],
      "metadata": {
        "colab": {
          "base_uri": "https://localhost:8080/",
          "height": 351
        },
        "id": "sv6cHph6cVsM",
        "outputId": "93e51e38-6214-4ded-a803-96627efec582"
      },
      "execution_count": null,
      "outputs": [
        {
          "output_type": "stream",
          "name": "stderr",
          "text": [
            "/usr/local/lib/python3.7/dist-packages/sklearn/utils/deprecation.py:87: FutureWarning: Function plot_confusion_matrix is deprecated; Function `plot_confusion_matrix` is deprecated in 1.0 and will be removed in 1.2. Use one of the class methods: ConfusionMatrixDisplay.from_predictions or ConfusionMatrixDisplay.from_estimator.\n",
            "  warnings.warn(msg, category=FutureWarning)\n"
          ]
        },
        {
          "output_type": "display_data",
          "data": {
            "text/plain": [
              "<Figure size 432x288 with 2 Axes>"
            ],
            "image/png": "[encoded data removed]"
          },
          "metadata": {
            "needs_background": "light"
          }
        }
      ]
    },
    {
      "cell_type": "code",
      "source": [
        "x=('accuracy','precision','recall','f1score')\n",
        "y=(a,b,c,d)\n",
        "plt.bar(x,y)\n",
        "plt.xlabel(\"parameters\")\n",
        "plt.ylabel(\"percentage\")\n",
        "plt.title(\"percentage of parameters of RF\")"
      ],
      "metadata": {
        "colab": {
          "base_uri": "https://localhost:8080/",
          "height": 313
        },
        "id": "Dq6MhdnblQtr",
        "outputId": "3f9cf16f-a847-491a-cfd7-61e4415267e5"
      },
      "execution_count": null,
      "outputs": [
        {
          "output_type": "execute_result",
          "data": {
            "text/plain": [
              "Text(0.5, 1.0, 'percentage of parameters of RF')"
            ]
          },
          "metadata": {},
          "execution_count": 15
        },
        {
          "output_type": "display_data",
          "data": {
            "text/plain": [
              "<Figure size 432x288 with 1 Axes>"
            ],
            "image/png": "[encoded data removed]"
          },
          "metadata": {
            "needs_background": "light"
          }
        }
      ]
    },
    {
      "cell_type": "code",
      "source": [
        "bf=DecisionTreeClassifier()\n",
        "bf.fit(x_train,y_train)\n",
        "b_pred=bf.predict(x_test)\n",
        "e=metrics.accuracy_score(b_pred,y_test)*100\n",
        "f=metrics.precision_score(y_test,b_pred)*100\n",
        "g=metrics.recall_score(y_test, b_pred)*100\n",
        "h=metrics.f1_score(y_test, b_pred)*100\n",
        "print(\"accuracy_dt_test:\",e)\n",
        "print(\"Precision_dt_test:\",f)\n",
        "print(\"Recall_dt_test:\",g)\n",
        "print(\"f1_dt_test:\",h)\n",
        "print()\n",
        "b_pred_train=bf.predict(x_train)\n",
        "e_train=metrics.accuracy_score(b_pred_train,y_train)*100\n",
        "f_train=metrics.precision_score(y_train,b_pred_train)*100\n",
        "g_train=metrics.recall_score(y_train,b_pred_train)*100\n",
        "h_train=metrics.f1_score(y_train, b_pred_train)*100\n",
        "print(\"accuracy_dt_train:\",e_train)\n",
        "print(\"Precision_dt_train:\",f_train)\n",
        "print(\"Recall_dt_train:\",g_train)\n",
        "print(\"f1_dt_train:\",h_train)"
      ],
      "metadata": {
        "colab": {
          "base_uri": "https://localhost:8080/"
        },
        "id": "fA-HlJb1bRfV",
        "outputId": "e3ca8724-52f1-495d-f1d6-ec87db6483ea"
      },
      "execution_count": null,
      "outputs": [
        {
          "output_type": "stream",
          "name": "stdout",
          "text": [
            "accuracy_dt_test: 75.77092511013215\n",
            "Precision_dt_test: 83.63636363636363\n",
            "Recall_dt_test: 83.13253012048193\n",
            "f1_dt_test: 83.38368580060423\n",
            "\n",
            "accuracy_dt_train: 100.0\n",
            "Precision_dt_train: 100.0\n",
            "Recall_dt_train: 100.0\n",
            "f1_dt_train: 100.0\n"
          ]
        }
      ]
    },
    {
      "cell_type": "code",
      "source": [
        "cm_dt = confusion_matrix(y_test, b_pred)\n",
        "plot_confusion_matrix(bf, x_test, y_test) \n",
        "plt.title('Confusion matrix for DT')\n",
        "plt.show()"
      ],
      "metadata": {
        "colab": {
          "base_uri": "https://localhost:8080/",
          "height": 351
        },
        "id": "poZ0YOT0eYfB",
        "outputId": "f34d9659-2ca2-4959-bbf0-78da8cd47bcc"
      },
      "execution_count": null,
      "outputs": [
        {
          "output_type": "stream",
          "name": "stderr",
          "text": [
            "/usr/local/lib/python3.7/dist-packages/sklearn/utils/deprecation.py:87: FutureWarning: Function plot_confusion_matrix is deprecated; Function `plot_confusion_matrix` is deprecated in 1.0 and will be removed in 1.2. Use one of the class methods: ConfusionMatrixDisplay.from_predictions or ConfusionMatrixDisplay.from_estimator.\n",
            "  warnings.warn(msg, category=FutureWarning)\n"
          ]
        },
        {
          "output_type": "display_data",
          "data": {
            "text/plain": [
              "<Figure size 432x288 with 2 Axes>"
            ],
            "image/png": "[encoded data removed]"
          },
          "metadata": {
            "needs_background": "light"
          }
        }
      ]
    },
    {
      "cell_type": "code",
      "source": [
        "x=('accuracy','precision','recall','f1score')\n",
        "y=(e,f,g,h)\n",
        "plt.bar(x,y)\n",
        "plt.xlabel(\"parameters\")\n",
        "plt.ylabel(\"percentage\")\n",
        "plt.title(\"percentage of parameters of DT\")"
      ],
      "metadata": {
        "colab": {
          "base_uri": "https://localhost:8080/",
          "height": 313
        },
        "id": "U-WE1mcFnUqh",
        "outputId": "519bb773-0fbf-468c-973e-ee077646b06d"
      },
      "execution_count": null,
      "outputs": [
        {
          "output_type": "execute_result",
          "data": {
            "text/plain": [
              "Text(0.5, 1.0, 'percentage of parameters of DT')"
            ]
          },
          "metadata": {},
          "execution_count": 18
        },
        {
          "output_type": "display_data",
          "data": {
            "text/plain": [
              "<Figure size 432x288 with 1 Axes>"
            ],
            "image/png": "[encoded data removed]"
          },
          "metadata": {
            "needs_background": "light"
          }
        }
      ]
    },
    {
      "cell_type": "code",
      "source": [
        "cf = KNeighborsClassifier()\n",
        "cf.fit(x_train,y_train)\n",
        "c_pred=cf.predict(x_test)\n",
        "i=metrics.accuracy_score(c_pred,y_test)*100\n",
        "j=metrics.precision_score(y_test,c_pred)*100\n",
        "k=metrics.recall_score(y_test, c_pred)*100\n",
        "l=metrics.f1_score(y_test, c_pred)*100\n",
        "print(\"accuracy_knn_test:\",i)\n",
        "print(\"Precision_knn_test:\",j)\n",
        "print(\"Recall_knn_test:\",k)\n",
        "print(\"f1_knn_text:\",l)\n",
        "print()\n",
        "c_pred_train=cf.predict(x_train)\n",
        "i_train=metrics.accuracy_score(c_pred_train,y_train)*100\n",
        "j_train=metrics.precision_score(y_train,c_pred_train)*100\n",
        "k_train=metrics.recall_score(y_train,c_pred_train)*100\n",
        "l_train=metrics.f1_score(y_train, c_pred_train)*100\n",
        "print(\"accuracy_knn_train:\",i_train)\n",
        "print(\"Precision_knn_train:\",j_train)\n",
        "print(\"Recall_knn_train:\",k_train)\n",
        "print(\"f1_knn_train:\",l_train)"
      ],
      "metadata": {
        "colab": {
          "base_uri": "https://localhost:8080/"
        },
        "id": "H5JMouBinbHS",
        "outputId": "cad7effd-afc8-4523-df43-0665f3bb7439"
      },
      "execution_count": null,
      "outputs": [
        {
          "output_type": "stream",
          "name": "stdout",
          "text": [
            "accuracy_knn_test: 87.22466960352423\n",
            "Precision_knn_test: 85.49222797927462\n",
            "Recall_knn_test: 99.3975903614458\n",
            "f1_knn_text: 91.92200557103064\n",
            "\n",
            "accuracy_knn_train: 91.30434782608695\n",
            "Precision_knn_train: 90.93023255813954\n",
            "Recall_knn_train: 98.24120603015075\n",
            "f1_knn_train: 94.44444444444444\n"
          ]
        }
      ]
    },
    {
      "cell_type": "code",
      "source": [
        "cm_knn = confusion_matrix(y_test, c_pred)\n",
        "plot_confusion_matrix(cf, x_test, y_test) \n",
        "plt.title('Confusion matrix for KNN')\n",
        "plt.show()"
      ],
      "metadata": {
        "colab": {
          "base_uri": "https://localhost:8080/",
          "height": 351
        },
        "id": "KQNY7-J9fZHk",
        "outputId": "f637016b-a871-4e7e-ecd5-6ddfa8704c52"
      },
      "execution_count": null,
      "outputs": [
        {
          "output_type": "stream",
          "name": "stderr",
          "text": [
            "/usr/local/lib/python3.7/dist-packages/sklearn/utils/deprecation.py:87: FutureWarning: Function plot_confusion_matrix is deprecated; Function `plot_confusion_matrix` is deprecated in 1.0 and will be removed in 1.2. Use one of the class methods: ConfusionMatrixDisplay.from_predictions or ConfusionMatrixDisplay.from_estimator.\n",
            "  warnings.warn(msg, category=FutureWarning)\n"
          ]
        },
        {
          "output_type": "display_data",
          "data": {
            "text/plain": [
              "<Figure size 432x288 with 2 Axes>"
            ],
            "image/png": "[encoded data removed]"
          },
          "metadata": {
            "needs_background": "light"
          }
        }
      ]
    },
    {
      "cell_type": "code",
      "source": [
        "x=('accuracy','precision','recall','f1score')\n",
        "y=(i,j,k,l)\n",
        "plt.bar(x,y)\n",
        "plt.xlabel(\"parameters\")\n",
        "plt.ylabel(\"percentage\")\n",
        "plt.title(\"percentage of parameters of KNN\")"
      ],
      "metadata": {
        "colab": {
          "base_uri": "https://localhost:8080/",
          "height": 313
        },
        "id": "iIAJOnKcoqDZ",
        "outputId": "c8cfb5fa-5487-400d-ca21-aae9c27810e9"
      },
      "execution_count": null,
      "outputs": [
        {
          "output_type": "execute_result",
          "data": {
            "text/plain": [
              "Text(0.5, 1.0, 'percentage of parameters of KNN')"
            ]
          },
          "metadata": {},
          "execution_count": 21
        },
        {
          "output_type": "display_data",
          "data": {
            "text/plain": [
              "<Figure size 432x288 with 1 Axes>"
            ],
            "image/png": "[encoded data removed]"
          },
          "metadata": {
            "needs_background": "light"
          }
        }
      ]
    },
    {
      "cell_type": "code",
      "source": [
        "df = SVC() \n",
        "df.fit(x_train,y_train)\n",
        "d_pred=df.predict(x_test)\n",
        "m=metrics.accuracy_score(d_pred,y_test)*100\n",
        "n=metrics.precision_score(y_test,d_pred)*100\n",
        "o=metrics.recall_score(y_test, d_pred)*100\n",
        "p=metrics.f1_score(y_test, d_pred)*100\n",
        "print(\"accuracy_svm_test:\",m)\n",
        "print(\"Precision_svm_test:\",n)\n",
        "print(\"Recall_svm_test:\",o)\n",
        "print(\"f1_svm_test:\",p)\n",
        "print()\n",
        "d_pred_train=df.predict(x_train)\n",
        "m_train=metrics.accuracy_score(d_pred_train,y_train)*100\n",
        "n_train=metrics.precision_score(y_train,d_pred_train)*100\n",
        "o_train=metrics.recall_score(y_train,d_pred_train)*100\n",
        "p_train=metrics.f1_score(y_train, d_pred_train)*100\n",
        "print(\"accuracy_svm_train:\",m_train)\n",
        "print(\"Precision_svm_train:\",n_train)\n",
        "print(\"Recall_svm_train:\",o_train)\n",
        "print(\"f1_svm_train:\",p_train)"
      ],
      "metadata": {
        "colab": {
          "base_uri": "https://localhost:8080/"
        },
        "id": "x0n_u2GsoqN-",
        "outputId": "457b35fe-696c-46db-e02d-1e40bcf3b134"
      },
      "execution_count": null,
      "outputs": [
        {
          "output_type": "stream",
          "name": "stdout",
          "text": [
            "accuracy_svm_test: 83.70044052863436\n",
            "Precision_svm_test: 82.08955223880598\n",
            "Recall_svm_test: 99.3975903614458\n",
            "f1_svm_test: 89.9182561307902\n",
            "\n",
            "accuracy_svm_train: 92.24952741020795\n",
            "Precision_svm_train: 91.22401847575058\n",
            "Recall_svm_train: 99.2462311557789\n",
            "f1_svm_train: 95.0661853188929\n"
          ]
        }
      ]
    },
    {
      "cell_type": "code",
      "source": [
        "cm_svm = confusion_matrix(y_test, d_pred)\n",
        "plot_confusion_matrix(df, x_test, y_test) \n",
        "plt.title('Confusion matrix for SVM')\n",
        "plt.show()"
      ],
      "metadata": {
        "colab": {
          "base_uri": "https://localhost:8080/",
          "height": 351
        },
        "id": "3yPCAQUogZyW",
        "outputId": "7cd43f34-fb87-458f-d8db-bf07aa5522c3"
      },
      "execution_count": null,
      "outputs": [
        {
          "output_type": "stream",
          "name": "stderr",
          "text": [
            "/usr/local/lib/python3.7/dist-packages/sklearn/utils/deprecation.py:87: FutureWarning: Function plot_confusion_matrix is deprecated; Function `plot_confusion_matrix` is deprecated in 1.0 and will be removed in 1.2. Use one of the class methods: ConfusionMatrixDisplay.from_predictions or ConfusionMatrixDisplay.from_estimator.\n",
            "  warnings.warn(msg, category=FutureWarning)\n"
          ]
        },
        {
          "output_type": "display_data",
          "data": {
            "text/plain": [
              "<Figure size 432x288 with 2 Axes>"
            ],
            "image/png": "[encoded data removed]"
          },
          "metadata": {
            "needs_background": "light"
          }
        }
      ]
    },
    {
      "cell_type": "code",
      "source": [
        "x=('accuracy','precision','recall','f1score')\n",
        "y=(m,n,o,p)\n",
        "plt.bar(x,y)\n",
        "plt.xlabel(\"parameters\")\n",
        "plt.ylabel(\"percentage\")\n",
        "plt.title(\"percentage of parameters of SVM\")"
      ],
      "metadata": {
        "colab": {
          "base_uri": "https://localhost:8080/",
          "height": 313
        },
        "id": "N3Raug4cplMW",
        "outputId": "e177b3ef-3036-4ec4-8840-1fdfd0db7912"
      },
      "execution_count": null,
      "outputs": [
        {
          "output_type": "execute_result",
          "data": {
            "text/plain": [
              "Text(0.5, 1.0, 'percentage of parameters of SVM')"
            ]
          },
          "metadata": {},
          "execution_count": 24
        },
        {
          "output_type": "display_data",
          "data": {
            "text/plain": [
              "<Figure size 432x288 with 1 Axes>"
            ],
            "image/png": "[encoded data removed]"
          },
          "metadata": {
            "needs_background": "light"
          }
        }
      ]
    },
    {
      "cell_type": "code",
      "source": [
        "ef= GaussianNB()\n",
        "ef.fit(x_train,y_train)\n",
        "e_pred=ef.predict(x_test)\n",
        "q=metrics.accuracy_score(e_pred,y_test)*100\n",
        "r=metrics.precision_score(y_test,e_pred)*100\n",
        "s=metrics.recall_score(y_test, e_pred)*100\n",
        "t=metrics.f1_score(y_test, e_pred)*100\n",
        "print(\"accuracy_nb_test:\",q)\n",
        "print(\"Precision_nb_test:\",r)\n",
        "print(\"Recall_nb_test:\",s)\n",
        "print(\"f1_nb_test:\",t)\n",
        "print()\n",
        "e_pred_train=ef.predict(x_train)\n",
        "q_train=metrics.accuracy_score(e_pred_train,y_train)*100\n",
        "r_train=metrics.precision_score(y_train,e_pred_train)*100\n",
        "s_train=metrics.recall_score(y_train,e_pred_train)*100\n",
        "t_train=metrics.f1_score(y_train, e_pred_train)*100\n",
        "print(\"accuracy_nb_train:\",q_train)\n",
        "print(\"Precision_nb_train:\",r_train)\n",
        "print(\"Recall_nb_train:\",s_train)\n",
        "print(\"f1_nb_train:\",t_train)"
      ],
      "metadata": {
        "colab": {
          "base_uri": "https://localhost:8080/"
        },
        "id": "iZ6unlhMpzbH",
        "outputId": "ea3b8716-3aa3-42e0-e2e2-7e63e0e96156"
      },
      "execution_count": null,
      "outputs": [
        {
          "output_type": "stream",
          "name": "stdout",
          "text": [
            "accuracy_nb_test: 76.65198237885463\n",
            "Precision_nb_test: 86.45161290322581\n",
            "Recall_nb_test: 80.72289156626506\n",
            "f1_nb_test: 83.48909657320873\n",
            "\n",
            "accuracy_nb_train: 82.6086956521739\n",
            "Precision_nb_train: 90.47619047619048\n",
            "Recall_nb_train: 85.92964824120602\n",
            "f1_nb_train: 88.14432989690721\n"
          ]
        }
      ]
    },
    {
      "cell_type": "code",
      "source": [
        "cm_nb = confusion_matrix(y_test, e_pred)\n",
        "plot_confusion_matrix(ef, x_test, y_test) \n",
        "plt.title('Confusion matrix for NB')\n",
        "plt.show()"
      ],
      "metadata": {
        "colab": {
          "base_uri": "https://localhost:8080/",
          "height": 351
        },
        "id": "gWfDjgZKhRKk",
        "outputId": "0270eaa9-fa58-471c-9fa4-03d1a51e7e39"
      },
      "execution_count": null,
      "outputs": [
        {
          "output_type": "stream",
          "name": "stderr",
          "text": [
            "/usr/local/lib/python3.7/dist-packages/sklearn/utils/deprecation.py:87: FutureWarning: Function plot_confusion_matrix is deprecated; Function `plot_confusion_matrix` is deprecated in 1.0 and will be removed in 1.2. Use one of the class methods: ConfusionMatrixDisplay.from_predictions or ConfusionMatrixDisplay.from_estimator.\n",
            "  warnings.warn(msg, category=FutureWarning)\n"
          ]
        },
        {
          "output_type": "display_data",
          "data": {
            "text/plain": [
              "<Figure size 432x288 with 2 Axes>"
            ],
            "image/png": "[encoded data removed]"
          },
          "metadata": {
            "needs_background": "light"
          }
        }
      ]
    },
    {
      "cell_type": "code",
      "source": [
        "x=('accuracy','precision','recall','f1score')\n",
        "y=(q,r,s,t)\n",
        "plt.bar(x,y)\n",
        "plt.xlabel(\"parameters\")\n",
        "plt.ylabel(\"percentage\")\n",
        "plt.title(\"percentage of parameters of NB\")"
      ],
      "metadata": {
        "colab": {
          "base_uri": "https://localhost:8080/",
          "height": 313
        },
        "id": "5-2QXQc8qMeM",
        "outputId": "4c8a2b08-0ed6-4ad4-d0b8-6089209bcb89"
      },
      "execution_count": null,
      "outputs": [
        {
          "output_type": "execute_result",
          "data": {
            "text/plain": [
              "Text(0.5, 1.0, 'percentage of parameters of NB')"
            ]
          },
          "metadata": {},
          "execution_count": 27
        },
        {
          "output_type": "display_data",
          "data": {
            "text/plain": [
              "<Figure size 432x288 with 1 Axes>"
            ],
            "image/png": "[encoded data removed]"
          },
          "metadata": {
            "needs_background": "light"
          }
        }
      ]
    },
    {
      "cell_type": "code",
      "source": [
        "input_data=(0,1,0.85247,0.71826,0.57227,240,239,0.00806353,8.68E-05,0.00218,1.76E-05,0.00067,0.00129,0.002,0.05883,0.517,0.03011,0.03496,0.04828,0.09034,0.970805,0.036223,18.995,69.9974958,76.08804597,72.46551224,539.3427351,1031.84904,2447.162183,3655.054806,101.0922179,83.14744022,255.21483,396.6436311,0.77778,11.7245,2.8277,1.173,0.26512,0.083127,1200445.612,1.5347,3.0152,0.00046263,0.00025997,0.83621,209.6062,455.9654,1.2825,1.3305,51.6843,5.7784,23.261,0.2685,5.8573,0.20023,9.1817,11.4283,8.4781,2.4874,0.02292,0.55527,-1.6334,-1.5144,0.39725,0.61775,0.091821,0.54775,-0.0068247,-0.67274,-0.001013,-7.50E-05,-0.0033637,-0.00019208,0.0013567,-0.00089961,-0.003002,0.0015484,0.0051873,-0.00020542,-0.0047367,0.0024652,0.0025138,-0.0011875,-0.00017942,-0.00082784,-0.00049845,0.0013855,0.00017264,-0.00028585,0.00042833,-4.41E-05,-0.00033822,0.00043047,3.83E-05,-0.00035615,-7.62E-05,2.66E-05,0.34158,1.0279,0.65735,0.78036,0.30141,0.35418,0.19127,0.22892,0.3355,0.17101,0.28111,0.21511,0.16605,0.17762,0.049933,0.17226,0.089754,0.14627,0.040231,0.060808,0.030284,0.02883,0.042253,0.028115,0.04718,0.035775,0.020827,0.023057,0.016392,0.0788,0.043847,0.06641,0.021565,0.029594,0.015351,0.014642,0.019681,0.012829,0.021703,0.017089,0.010043,0.01213,99.9996,1.53E-07,8.86E-07,7.43E-06,2.10E-05,0.00010224,1.31E-05,4.06E-05,2.69E-05,1.04E-05,0.00020186,1.7166,5.5625,0.04894,-72.2192,-866.9373,-54.5335,-319.9468,-165.257,-42.9705,-2336.3644,-779.1377,-290.208,-78.3447,-10.7944,10.5089,-46.3816,-35.9347,-46.8515,-31.2923,-18.7456,0.0024859,0.02815,0.32455,1.5948,7.7828,2.3013,5.6628,3.5683,2.0302,44.7582,0.005012,0.046228,0.68635,3.5072,26.1213,3.7358,15.283,9.2028,4.7887,89.767,-34415952.86,-41505780.29,-54991273,-79779216.69,-129684181.7,-232253303.7,-459058057.8,-902118385.7,-1886558836,-3937753319,1116.2921,672.8105,445.4876,322.8542,262.2272,234.6861,231.969,227.8718,238.269,248.6663,572.1636,2023.8169,6477.7714,18923.0837,49173.8993,115701.9285,245931.5887,524800.1114,1049747.089,2101636.245,4181.8549,11092.1222,27917.7341,67151.7571,151463.1285,326874.1892,672089.5253,1381934.183,2777808.879,5547195.189,100,6.59E-09,3.86E-08,3.25E-07,9.05E-07,4.39E-06,5.71E-07,1.73E-06,1.15E-06,4.50E-07,8.71E-06,0.00033833,0.0016911,0.011168,0.026503,0.095478,0.01607,0.039222,0.029105,0.012719,0.14851,-1820.192,-871.5514,-446.3217,-261.8311,-182.3583,-210.734,-190.3697,-192.1166,-175.6679,-163.4186,1.62E-07,1.85E-06,2.15E-05,0.00010395,0.00050042,0.00015082,0.00036353,0.00022942,0.00013184,0.0029043,3.25E-07,3.04E-06,4.55E-05,0.00022608,0.0016888,0.00024467,0.00098152,0.0005974,0.00031087,0.0058211,-19278.0371,-25711.8622,-36938.137,-57264.6625,-98433.1856,-184901.7535,-381059.351,-776445.2329,-1676725.978,-3601122.613,414.6434,276.485,198.5803,153.8978,132.2489,124.1971,127.9812,130.3804,140.7776,151.1748,0.86121,3.0487,9.7825,28.5949,74.3411,174.9214,371.7296,793.068,1586.1824,3173.0448,6.299,16.7003,42.0762,101.0889,228.8489,493.8563,1015.7707,2091.946,4188.2456,8373.9278,1.11E-05,3.98E-06,4.92E-06,3.54E-06,7.19E-06,3.87E-05,0.00016363,0.0003761,0.00039246,0.0004061,0.00041458,0.00023899,0.0019048,0.012066,0.029439,0.037555,0.089055,0.17728,0.13122,0.051588,0.019785,0.05609,0.12525,0.057908,0.01007,0.057575,0.10807,0.032743,0.00025665,1.33E-05,6.75E-06,2.75E-06,2.04E-06,1.67E-06,1.11E-06,5.35E-05,0.20497,0.076626,0.091515,0.066105,0.12716,0.59587,2.1832,4.5851,4.6877,4.8635,4.884,2.818,18.8625,89.7525,174.692,189.5,360.7126,541.6719,422.8302,225.6461,99.3648,214.7895,337.8141,201.3841,53.7314,178.7287,230.2402,111.0346,2.2372,0.15901,0.083824,0.036109,0.027414,0.023151,0.015562,0.55112,-2037542.225,-1802551.782,-1485424.634,-1245979.172,-991083.9631,-745188.5092,-560498.2903,-432705.197,-352797.2473,-281439.269,-229943.2967,-201985.0408,-127736.2777,-83962.4084,-62201.7084,-52209.7866,-34671.0477,-23650.0278,-20345.6618,-18507.9939,-19238.3429,-11545.4036,-7369.2484,-7030.0263,-8442.5303,-4459.3054,-2800.8383,-3160.3491,-6399.2202,-7011.7391,-6228.1902,-5536.5796,-4540.083,-3726.2679,-3190.1752,-2528.9188,1.61E-07,7.56E-08,1.35E-07,9.89E-08,1.67E-07,1.13E-06,6.78E-06,2.44E-05,2.95E-05,3.58E-05,5.03E-05,2.33E-05,0.00012787,0.0017165,0.0069193,0.008643,0.023558,0.074782,0.064414,0.030886,0.010913,0.032924,0.13939,0.069247,0.00481,0.07756,0.25704,0.073123,0.00040142,4.43E-05,2.98E-05,1.30E-05,1.22E-05,1.26E-05,1.01E-05,1.44E-05,9.97E-07,4.14E-07,5.22E-07,6.11E-07,8.58E-07,2.53E-06,1.50E-05,4.83E-05,5.90E-05,5.87E-05,7.36E-05,5.90E-05,0.00018979,0.0012918,0.0065317,0.013296,0.02762,0.071125,0.063262,0.020787,0.01234,0.027799,0.080709,0.032363,0.0092097,0.024016,0.050924,0.017784,0.0004321,6.20E-05,4.36E-05,2.30E-05,1.77E-05,1.23E-05,9.74E-06,0.00011957,8.19E-07,2.37E-07,5.77E-20,2.84E-07,0,9.30E-07,-1.27E-07,-1.41E-18,9.16E-06,-1.71E-06,-3.10E-05,-9.93E-19,-5.56E-18,0.00056006,1.03E-05,0,0,-6.10E-17,-0.00038921,0,3.81E-17,6.15E-17,6.74E-17,0,0,-2.22E-17,-0.013372,0.056236,0.0004446,2.85E-19,0.00014027,-8.36E-05,-0.00016867,-0.00020162,-4.27E-05,-0.01432,-2.89E-21,-3.77E-21,1.70E-22,-9.18E-22,-3.98E-22,-2.86E-21,-3.52E-22,1.06E-21,1.23E-20,-1.36E-20,-1.63E-20,-2.63E-21,1.84E-21,1.34E-19,-2.65E-20,1.82E-21,9.60E-20,-7.50E-20,-1.06E-18,7.54E-21,-6.33E-20,-1.25E-18,-1.90E-18,-2.42E-19,9.38E-20,-7.21E-19,1.84E-18,-1.85E-18,-7.29E-21,2.04E-20,0,6.53E-20,-2.02E-20,7.96E-20,1.87E-20,-0.01461,0.00034139,0.00022424,0.00027317,0.00025393,0.00039625,0.0010075,0.0022682,0.003767,0.0042153,0.0046972,0.0051989,0.0043241,0.013373,0.036869,0.063087,0.078064,0.13169,0.20354,0.1918,0.13177,0.089375,0.16487,0.26991,0.20099,0.091819,0.24065,0.36097,0.21776,0.021112,0.0052758,0.0041096,0.0028762,0.0027106,0.0026957,0.0024093,0.0029658,-0.0096443,-0.005025,-0.0064911,-0.006014,-0.0085182,-0.0092406,-0.016506,-0.026006,-0.026273,-0.02416,-0.026321,-0.024286,-0.048924,-0.10839,-0.19432,-0.29603,-0.46639,-0.61778,-0.596,-0.32867,-0.26301,-0.44541,-0.66075,-0.45846,-0.2454,-0.45883,-0.65524,-0.36007,-0.060063,-0.017824,-0.013598,-0.012346,-0.009196,-0.0069326,-0.006569,-0.035389,0.01432,0.0066623,0.0064911,0.0074746,0.0085182,0.0094429,0.01609,0.026006,0.028117,0.025222,0.022796,0.024286,0.048924,0.10575,0.20486,0.29603,0.46639,0.61778,0.59309,0.32867,0.26301,0.44541,0.66075,0.45846,0.2454,0.45883,0.64375,0.39877,0.056849,0.017824,0.014505,0.0084926,0.009728,0.0067535,0.0060726,-0.0090458,0.86453,0.43538,1.11E-15,0.36745,0,-0.0043099,-0.0053825,-1.11E-17,-0.00082879,0.0016047,-0.00036202,1.01E-15,-5.85E-17,-0.0031426,0.0074332,1.51E-17,2.21E-17,-9.37E-18,0.0007342,-4.33E-18,-4.47E-17,-1.39E-17,-3.50E-17,-4.29E-19,-9.66E-18,-1.66E-17,0.00011457,-0.1029,0.030756,7.07E-17,-0.086911,-0.28507,-0.17362,0.071728,0.010352,-2.7303,66.5007,36.9934,26.3508,51.9577,21.5451,8.2488,8.0024,6.9635,6.9189,5.0622,4.6068,7.7218,2.7224,2.4171,2.9383,4.2077,3.1541,2.8531,2.7496,2.155,2.9457,2.1993,1.983,1.8314,2.0062,1.6058,1.5466,1.562,2.6445,3.8686,4.2105,5.1221,4.4625,2.6202,3.0004,18.9405)\n",
        "# change the input data to a numpy array\n",
        "input_data_as_numpy_array= np.asarray(input_data)\n",
        "\n",
        "# reshape the numpy array as we are predicting for only on instance\n",
        "input_data_reshaped = input_data_as_numpy_array.reshape(1,-1)\n",
        "\n",
        "prediction = cf.predict(input_data_reshaped)\n",
        "print(prediction)\n",
        "\n",
        "\n",
        "if (prediction[0] == 0):\n",
        "  print(\"The Person does not have Parkinsons Disease\")\n",
        "\n",
        "else:\n",
        "  print(\"The Person has Parkinsons\")\n"
      ],
      "metadata": {
        "colab": {
          "base_uri": "https://localhost:8080/"
        },
        "id": "QGVwBTt413U1",
        "outputId": "6183456e-cd83-4944-8eef-48c60008d43e"
      },
      "execution_count": null,
      "outputs": [
        {
          "output_type": "stream",
          "name": "stdout",
          "text": [
            "[0]\n",
            "The Person does not have Parkinsons Disease\n"
          ]
        },
        {
          "output_type": "stream",
          "name": "stderr",
          "text": [
            "/usr/local/lib/python3.7/dist-packages/sklearn/base.py:451: UserWarning: X does not have valid feature names, but KNeighborsClassifier was fitted with feature names\n",
            "  \"X does not have valid feature names, but\"\n"
          ]
        }
      ]
    },
    {
      "cell_type": "code",
      "source": [
        "plt.figure(figsize=(13,8))\n",
        "models=('Randomforest','DecisionTreeClassifier','KNeighborsClassifier','Support vector machine','GaussianNB')\n",
        "xp=np.arange(len(models))\n",
        "accuracy=(a,e,i,m,q)\n",
        "precision=(b,f,j,n,r)\n",
        "recall=(c,g,k,o,s)\n",
        "f1score=(d,h,l,p,t)\n",
        "plt.xticks(xp,models)\n",
        "plt.bar(xp+0.4,accuracy,label='accuracy',width=0.2)\n",
        "plt.bar(xp+0.2,precision,label='precision',width=0.2)\n",
        "plt.bar(xp,recall,label='recall',width=0.2)\n",
        "plt.bar(xp-0.2,f1score,label='f1score',width=0.2)\n",
        "plt.legend()"
      ],
      "metadata": {
        "colab": {
          "base_uri": "https://localhost:8080/",
          "height": 501
        },
        "id": "H1IJWnByuXn_",
        "outputId": "4939c03a-2120-4d0a-e67f-fcd28bbf1385"
      },
      "execution_count": null,
      "outputs": [
        {
          "output_type": "execute_result",
          "data": {
            "text/plain": [
              "<matplotlib.legend.Legend at 0x7fb01394d890>"
            ]
          },
          "metadata": {},
          "execution_count": 29
        },
        {
          "output_type": "display_data",
          "data": {
            "text/plain": [
              "<Figure size 936x576 with 1 Axes>"
            ],
            "image/png": "[encoded data removed]"
          },
          "metadata": {
            "needs_background": "light"
          }
        }
      ]
    },
    {
      "cell_type": "code",
      "source": [
        "fpr1, tpr1, _ = metrics.roc_curve(y_test,  a_pred)\n",
        "fpr2, tpr2, _ = metrics.roc_curve(y_test,  b_pred)\n",
        "fpr3, tpr3, _ = metrics.roc_curve(y_test,  c_pred)\n",
        "fpr4, tpr4, _ = metrics.roc_curve(y_test,  d_pred)\n",
        "fpr5, tpr5, _ = metrics.roc_curve(y_test,  e_pred)\n",
        "\n",
        "# plot roc curves\n",
        "plt.plot(fpr1, tpr1, linestyle='--',color='orange', label='RF')\n",
        "plt.plot(fpr2, tpr2, linestyle='--',color='green', label='DT')\n",
        "plt.plot(fpr3, tpr3, linestyle='--',color='blue', label='KNN')\n",
        "plt.plot(fpr4, tpr4, linestyle='--',color='red', label='SVM')\n",
        "plt.plot(fpr5, tpr5, linestyle='--',color='black', label='NB')\n",
        "# title\n",
        "plt.title('ROC curve')\n",
        "# x label\n",
        "plt.xlabel('False Positive Rate')\n",
        "# y label\n",
        "plt.ylabel('True Positive rate')\n",
        "\n",
        "plt.legend(loc='best')\n",
        "plt.show()"
      ],
      "metadata": {
        "colab": {
          "base_uri": "https://localhost:8080/",
          "height": 295
        },
        "id": "wx9hGVs3hpRu",
        "outputId": "1fe296bf-2304-452c-d6b3-7fc87b830b6f"
      },
      "execution_count": null,
      "outputs": [
        {
          "output_type": "display_data",
          "data": {
            "text/plain": [
              "<Figure size 432x288 with 1 Axes>"
            ],
            "image/png": "[encoded data removed]"
          },
          "metadata": {
            "needs_background": "light"
          }
        }
      ]
    },
    {
      "cell_type": "code",
      "source": [],
      "metadata": {
        "id": "0j6ZEnVJoc4h"
      },
      "execution_count": null,
      "outputs": []
    }
  ],
  "metadata": {
    "colab": {
      "provenance": [],
      "collapsed_sections": [],
      "include_colab_link": true
    },
    "kernelspec": {
      "display_name": "Python 3",
      "name": "python3"
    },
    "language_info": {
      "name": "python"
    }
  },
  "nbformat": 4,
  "nbformat_minor": 0
}